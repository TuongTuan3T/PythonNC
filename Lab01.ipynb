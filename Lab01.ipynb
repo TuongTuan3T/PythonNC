{
  "nbformat": 4,
  "nbformat_minor": 2,
  "metadata": {
    "colab": {
      "name": "Lab01.ipynb",
      "provenance": [],
      "collapsed_sections": [],
      "authorship_tag": "ABX9TyP30Bzbm8uRaMWvLB3aSj6I",
      "include_colab_link": true
    },
    "kernelspec": {
      "name": "python3",
      "display_name": "Python 3"
    },
    "language_info": {
      "name": "python"
    }
  },
  "cells": [
    {
      "cell_type": "markdown",
      "source": [
        "<a href=\"https://colab.research.google.com/github/TuongTuan3T/PythonNC/blob/main/Lab01.ipynb\" target=\"_parent\"><img src=\"https://colab.research.google.com/assets/colab-badge.svg\" alt=\"Open In Colab\"/></a>"
      ],
      "metadata": {
        "id": "view-in-github",
        "colab_type": "text"
      }
    },
    {
      "cell_type": "code",
      "execution_count": 1,
      "source": [
        "min(2,3,4)"
      ],
      "outputs": [
        {
          "output_type": "execute_result",
          "data": {
            "text/plain": [
              "2"
            ]
          },
          "metadata": {},
          "execution_count": 1
        }
      ],
      "metadata": {
        "colab": {
          "base_uri": "https://localhost:8080/"
        },
        "id": "y04dfx0uLSUB",
        "outputId": "a8f5d404-947d-4645-8ffc-38814095a8db"
      }
    },
    {
      "cell_type": "markdown",
      "source": [
        "Bài 1 b"
      ],
      "metadata": {
        "id": "dy67W68eNV7Q"
      }
    },
    {
      "cell_type": "code",
      "execution_count": 2,
      "source": [
        "max(2, -3, 4, 7, -5)"
      ],
      "outputs": [
        {
          "output_type": "execute_result",
          "data": {
            "text/plain": [
              "7"
            ]
          },
          "metadata": {},
          "execution_count": 2
        }
      ],
      "metadata": {
        "colab": {
          "base_uri": "https://localhost:8080/"
        },
        "id": "fJNNkqRXO7TG",
        "outputId": "842f4759-d935-48af-b6c1-e3a5a2c7f9df"
      }
    },
    {
      "cell_type": "markdown",
      "source": [],
      "metadata": {
        "id": "cikcEAcRwJFo"
      }
    },
    {
      "cell_type": "markdown",
      "source": [
        "bài 1c\n"
      ],
      "metadata": {
        "id": "6E1T0siHOzzH"
      }
    },
    {
      "cell_type": "code",
      "execution_count": 3,
      "source": [
        "max(2, -3, min(4, 7), -5)"
      ],
      "outputs": [
        {
          "output_type": "execute_result",
          "data": {
            "text/plain": [
              "4"
            ]
          },
          "metadata": {},
          "execution_count": 3
        }
      ],
      "metadata": {
        "colab": {
          "base_uri": "https://localhost:8080/"
        },
        "id": "g5rJ25_QPERG",
        "outputId": "95e685e5-742d-4542-cd09-5c15c9cf7d9c"
      }
    },
    {
      "cell_type": "markdown",
      "source": [
        "bài 2a"
      ],
      "metadata": {
        "id": "77jazVrKXWYV"
      }
    },
    {
      "cell_type": "code",
      "execution_count": 4,
      "source": [
        "min(max(3, 4), abs(-5))"
      ],
      "outputs": [
        {
          "output_type": "execute_result",
          "data": {
            "text/plain": [
              "4"
            ]
          },
          "metadata": {},
          "execution_count": 4
        }
      ],
      "metadata": {
        "colab": {
          "base_uri": "https://localhost:8080/"
        },
        "id": "LhxGbL9UXX_a",
        "outputId": "71db7aa2-2632-426f-f9b9-37c95f7b4349"
      }
    },
    {
      "cell_type": "markdown",
      "source": [
        "bài 2b"
      ],
      "metadata": {
        "id": "8rJCw_osXbsK"
      }
    },
    {
      "cell_type": "code",
      "execution_count": 5,
      "source": [
        "abs(min(4, 6, max(2, 8)))"
      ],
      "outputs": [
        {
          "output_type": "execute_result",
          "data": {
            "text/plain": [
              "4"
            ]
          },
          "metadata": {},
          "execution_count": 5
        }
      ],
      "metadata": {
        "colab": {
          "base_uri": "https://localhost:8080/"
        },
        "id": "ETApkYZoXdS6",
        "outputId": "7bde3162-a25b-4835-ee9b-dec2c4188672"
      }
    },
    {
      "cell_type": "markdown",
      "source": [
        "Bài 2c"
      ],
      "metadata": {
        "id": "KNF9KogXXjO6"
      }
    },
    {
      "cell_type": "code",
      "execution_count": 6,
      "source": [
        "round(max(5.572, 3.258), abs(-2))"
      ],
      "outputs": [
        {
          "output_type": "execute_result",
          "data": {
            "text/plain": [
              "5.57"
            ]
          },
          "metadata": {},
          "execution_count": 6
        }
      ],
      "metadata": {
        "colab": {
          "base_uri": "https://localhost:8080/"
        },
        "id": "F6KdjA65XkYq",
        "outputId": "25c30688-4d21-49fc-d32b-eed440695959"
      }
    },
    {
      "cell_type": "markdown",
      "source": [
        "Bài 3"
      ],
      "metadata": {
        "id": "2GC_QY4PXoJz"
      }
    },
    {
      "cell_type": "code",
      "execution_count": 7,
      "source": [
        "def triple(num):\r\n",
        " return num * 3\r\n",
        "\r\n",
        "triple(3)"
      ],
      "outputs": [
        {
          "output_type": "execute_result",
          "data": {
            "text/plain": [
              "9"
            ]
          },
          "metadata": {},
          "execution_count": 7
        }
      ],
      "metadata": {
        "id": "aBwfszkHXpQj",
        "colab": {
          "base_uri": "https://localhost:8080/"
        },
        "outputId": "892f4fae-bd73-414c-f5ef-102d24e38bee"
      }
    },
    {
      "cell_type": "markdown",
      "source": [
        "bài 4\n"
      ],
      "metadata": {
        "id": "lguXqmfeXwR7"
      }
    },
    {
      "cell_type": "code",
      "execution_count": 8,
      "source": [
        "def absolute_difference(number1, number2):\r\n",
        " return abs(number1 - number2)\r\n",
        "\r\n",
        "absolute_difference(7, 3)\r\n"
      ],
      "outputs": [
        {
          "output_type": "execute_result",
          "data": {
            "text/plain": [
              "4"
            ]
          },
          "metadata": {},
          "execution_count": 8
        }
      ],
      "metadata": {
        "id": "W_nP65PlXz0r",
        "colab": {
          "base_uri": "https://localhost:8080/"
        },
        "outputId": "db0de6af-a4d9-4d48-8800-565845947535"
      }
    },
    {
      "cell_type": "markdown",
      "source": [
        "bài 5"
      ],
      "metadata": {
        "id": "pLBWBWTHwKLp"
      }
    },
    {
      "cell_type": "code",
      "execution_count": 9,
      "source": [
        "def km_to_miles(km):\r\n",
        "  return km/1.6\r\n",
        "km_to_miles(5)"
      ],
      "outputs": [
        {
          "output_type": "execute_result",
          "data": {
            "text/plain": [
              "3.125"
            ]
          },
          "metadata": {},
          "execution_count": 9
        }
      ],
      "metadata": {
        "colab": {
          "base_uri": "https://localhost:8080/"
        },
        "id": "jsVQWQM9wOoB",
        "outputId": "1047c83d-0992-4496-9117-285fb7d31466"
      }
    },
    {
      "cell_type": "markdown",
      "source": [
        "bài 6\n"
      ],
      "metadata": {
        "id": "NEUMCO7AxZSD"
      }
    },
    {
      "cell_type": "code",
      "execution_count": 10,
      "source": [
        "def average_grade(grade1, grade2, grade3):\r\n",
        "  return (grade1 + grade2 + grade3) / 3\r\n",
        "average_grade(80, 95, 90)"
      ],
      "outputs": [
        {
          "output_type": "execute_result",
          "data": {
            "text/plain": [
              "88.33333333333333"
            ]
          },
          "metadata": {},
          "execution_count": 10
        }
      ],
      "metadata": {
        "colab": {
          "base_uri": "https://localhost:8080/"
        },
        "id": "ppwnsDDbxav5",
        "outputId": "60f32094-91a3-42d5-82e4-33b5d97287f8"
      }
    },
    {
      "cell_type": "markdown",
      "source": [
        "Bài 7"
      ],
      "metadata": {
        "id": "sBuEVsmbxedS"
      }
    },
    {
      "cell_type": "code",
      "execution_count": 11,
      "source": [
        "def top_three_avg(grade1, grade2, grade3, grade4):\r\n",
        "  total = grade1 + grade2 + grade3 + grade4\r\n",
        "  top_three = total - min(grade1, grade2, grade3, grade4)\r\n",
        "  return top_three / 3\r\n",
        "  return max(average_grade(grade1, grade2, grade3),\r\n",
        "  average_grade(grade1, grade2, grade4),\r\n",
        "  average_grade(grade1, grade3, grade4),\r\n",
        "  average_grade(grade2, grade3, grade4))\r\n",
        "  return (grade1 + grade2 + grade3) / 3\r\n",
        "\r\n",
        "top_three_avg(50, 60, 70, 80)"
      ],
      "outputs": [
        {
          "output_type": "execute_result",
          "data": {
            "text/plain": [
              "70.0"
            ]
          },
          "metadata": {},
          "execution_count": 11
        }
      ],
      "metadata": {
        "colab": {
          "base_uri": "https://localhost:8080/"
        },
        "id": "zT8cnB_QxosJ",
        "outputId": "7617bb3e-8588-4869-f0bb-ca26be534a57"
      }
    },
    {
      "cell_type": "markdown",
      "source": [
        "Bài 8\n",
        "\n"
      ],
      "metadata": {
        "id": "7XC6I1t7yXAZ"
      }
    },
    {
      "cell_type": "code",
      "execution_count": 12,
      "source": [
        "def weeks_elapsed(day1, day2):\r\n",
        "  total= abs(day1 - day2)\r\n",
        "  total=total // 7\r\n",
        "  return total\r\n",
        "weeks_elapsed(3, 20)\r\n",
        "weeks_elapsed(20,3)\r\n",
        "weeks_elapsed(8,5)\r\n",
        "weeks_elapsed(40,61)"
      ],
      "outputs": [
        {
          "output_type": "execute_result",
          "data": {
            "text/plain": [
              "3"
            ]
          },
          "metadata": {},
          "execution_count": 12
        }
      ],
      "metadata": {
        "colab": {
          "base_uri": "https://localhost:8080/"
        },
        "id": "OMBWXdmCycmR",
        "outputId": "c3f9599f-310a-4590-b703-24d86005015d"
      }
    },
    {
      "cell_type": "markdown",
      "source": [
        "bài 9"
      ],
      "metadata": {
        "id": "UtebzuEp2y8Y"
      }
    },
    {
      "cell_type": "code",
      "execution_count": 13,
      "source": [
        "def square(num):\r\n",
        "  num= num*num\r\n",
        "  return num\r\n",
        "square(3)"
      ],
      "outputs": [
        {
          "output_type": "execute_result",
          "data": {
            "text/plain": [
              "9"
            ]
          },
          "metadata": {},
          "execution_count": 13
        }
      ],
      "metadata": {
        "colab": {
          "base_uri": "https://localhost:8080/"
        },
        "id": "Ikt-hSGx2yEp",
        "outputId": "b7920e1c-e743-431b-fa47-8b1c05d740a5"
      }
    },
    {
      "cell_type": "markdown",
      "source": [
        "bài 10"
      ],
      "metadata": {
        "id": "_whhNzCk3jZB"
      }
    },
    {
      "cell_type": "code",
      "execution_count": 14,
      "source": [
        "n=3\r\n",
        "n=n*n\r\n",
        "print(n)"
      ],
      "outputs": [
        {
          "output_type": "stream",
          "name": "stdout",
          "text": [
            "9\n"
          ]
        }
      ],
      "metadata": {
        "colab": {
          "base_uri": "https://localhost:8080/"
        },
        "id": "FAmVB59V3kQQ",
        "outputId": "92e75b70-5eac-4632-dfc1-a4d6b11909d8"
      }
    },
    {
      "cell_type": "markdown",
      "source": [
        "Chương 6"
      ],
      "metadata": {
        "id": "yQNReOzH3tg_"
      }
    },
    {
      "cell_type": "markdown",
      "source": [
        "bài 1a"
      ],
      "metadata": {
        "id": "2o0AkU3d3vX4"
      }
    },
    {
      "cell_type": "code",
      "execution_count": 15,
      "source": [
        "import math\r\n",
        "math.floor(-2.8)"
      ],
      "outputs": [
        {
          "output_type": "execute_result",
          "data": {
            "text/plain": [
              "-3"
            ]
          },
          "metadata": {},
          "execution_count": 15
        }
      ],
      "metadata": {
        "colab": {
          "base_uri": "https://localhost:8080/"
        },
        "id": "h0JRVPmq3xAA",
        "outputId": "4256b616-9ba6-4012-b596-08e8bcfb9eda"
      }
    },
    {
      "cell_type": "markdown",
      "source": [
        "1b\n"
      ],
      "metadata": {
        "id": "M4Nv3IyS5TYK"
      }
    },
    {
      "cell_type": "code",
      "execution_count": 16,
      "source": [
        "abs(round(-4.3))"
      ],
      "outputs": [
        {
          "output_type": "execute_result",
          "data": {
            "text/plain": [
              "4"
            ]
          },
          "metadata": {},
          "execution_count": 16
        }
      ],
      "metadata": {
        "colab": {
          "base_uri": "https://localhost:8080/"
        },
        "id": "6-TY_Fvc5UQn",
        "outputId": "aaa768d3-35ee-4b04-81e5-a3c1cabc17d3"
      }
    },
    {
      "cell_type": "markdown",
      "source": [
        "1c"
      ],
      "metadata": {
        "id": "c7uuPmsH5l_P"
      }
    },
    {
      "cell_type": "code",
      "execution_count": 17,
      "source": [
        "math.ceil(math.sin(34.5))"
      ],
      "outputs": [
        {
          "output_type": "execute_result",
          "data": {
            "text/plain": [
              "1"
            ]
          },
          "metadata": {},
          "execution_count": 17
        }
      ],
      "metadata": {
        "colab": {
          "base_uri": "https://localhost:8080/"
        },
        "id": "vpG21H7i5m_v",
        "outputId": "64f4eaec-9756-4e25-bb58-6f2f4e2346b5"
      }
    },
    {
      "cell_type": "markdown",
      "source": [
        "2a"
      ],
      "metadata": {
        "id": "DkKbFm_S6cB3"
      }
    },
    {
      "cell_type": "code",
      "execution_count": 18,
      "source": [
        "import calendar"
      ],
      "outputs": [],
      "metadata": {
        "id": "izTf06Of6dHP"
      }
    },
    {
      "cell_type": "markdown",
      "source": [
        "2b"
      ],
      "metadata": {
        "id": "sCFeO7Xf6fN_"
      }
    },
    {
      "cell_type": "code",
      "execution_count": 19,
      "source": [
        "help(calendar.isleap)"
      ],
      "outputs": [
        {
          "output_type": "stream",
          "name": "stdout",
          "text": [
            "Help on function isleap in module calendar:\n",
            "\n",
            "isleap(year)\n",
            "    Return True for leap years, False for non-leap years.\n",
            "\n"
          ]
        }
      ],
      "metadata": {
        "colab": {
          "base_uri": "https://localhost:8080/"
        },
        "id": "xfayv4hI6f9f",
        "outputId": "72c6b434-a8e1-408c-daf0-1e47317bb50a"
      }
    },
    {
      "cell_type": "markdown",
      "source": [
        "2c"
      ],
      "metadata": {
        "id": "8h0Dijzg6oe2"
      }
    },
    {
      "cell_type": "code",
      "execution_count": 20,
      "source": [
        "calendar.isleap(2016)"
      ],
      "outputs": [
        {
          "output_type": "execute_result",
          "data": {
            "text/plain": [
              "True"
            ]
          },
          "metadata": {},
          "execution_count": 20
        }
      ],
      "metadata": {
        "colab": {
          "base_uri": "https://localhost:8080/"
        },
        "id": "3oGE1YTt6pGv",
        "outputId": "9a5e1576-9cb8-4e33-f9d5-2cfa621c4dc9"
      }
    },
    {
      "cell_type": "markdown",
      "source": [
        "2d"
      ],
      "metadata": {
        "id": "pKDBLhuN6rZW"
      }
    },
    {
      "cell_type": "code",
      "execution_count": 21,
      "source": [
        "dir(calendar)"
      ],
      "outputs": [
        {
          "output_type": "execute_result",
          "data": {
            "text/plain": [
              "['Calendar',\n",
              " 'EPOCH',\n",
              " 'FRIDAY',\n",
              " 'February',\n",
              " 'HTMLCalendar',\n",
              " 'IllegalMonthError',\n",
              " 'IllegalWeekdayError',\n",
              " 'January',\n",
              " 'LocaleHTMLCalendar',\n",
              " 'LocaleTextCalendar',\n",
              " 'MONDAY',\n",
              " 'SATURDAY',\n",
              " 'SUNDAY',\n",
              " 'THURSDAY',\n",
              " 'TUESDAY',\n",
              " 'TextCalendar',\n",
              " 'WEDNESDAY',\n",
              " '_EPOCH_ORD',\n",
              " '__all__',\n",
              " '__builtins__',\n",
              " '__cached__',\n",
              " '__doc__',\n",
              " '__file__',\n",
              " '__loader__',\n",
              " '__name__',\n",
              " '__package__',\n",
              " '__spec__',\n",
              " '_colwidth',\n",
              " '_locale',\n",
              " '_localized_day',\n",
              " '_localized_month',\n",
              " '_spacing',\n",
              " 'c',\n",
              " 'calendar',\n",
              " 'datetime',\n",
              " 'day_abbr',\n",
              " 'day_name',\n",
              " 'different_locale',\n",
              " 'error',\n",
              " 'firstweekday',\n",
              " 'format',\n",
              " 'formatstring',\n",
              " 'isleap',\n",
              " 'leapdays',\n",
              " 'main',\n",
              " 'mdays',\n",
              " 'month',\n",
              " 'month_abbr',\n",
              " 'month_name',\n",
              " 'monthcalendar',\n",
              " 'monthlen',\n",
              " 'monthrange',\n",
              " 'nextmonth',\n",
              " 'prcal',\n",
              " 'prevmonth',\n",
              " 'prmonth',\n",
              " 'prweek',\n",
              " 'repeat',\n",
              " 'setfirstweekday',\n",
              " 'sys',\n",
              " 'timegm',\n",
              " 'week',\n",
              " 'weekday',\n",
              " 'weekheader']"
            ]
          },
          "metadata": {},
          "execution_count": 21
        }
      ],
      "metadata": {
        "colab": {
          "base_uri": "https://localhost:8080/"
        },
        "id": "ne1UUgJe6sIP",
        "outputId": "6e27894e-1eff-41b1-a06a-c38ea876262c"
      }
    },
    {
      "cell_type": "markdown",
      "source": [
        "2e"
      ],
      "metadata": {
        "id": "YwZExGP96wTv"
      }
    },
    {
      "cell_type": "code",
      "execution_count": 22,
      "source": [
        "calendar.leapdays(2000, 2050)"
      ],
      "outputs": [
        {
          "output_type": "execute_result",
          "data": {
            "text/plain": [
              "13"
            ]
          },
          "metadata": {},
          "execution_count": 22
        }
      ],
      "metadata": {
        "colab": {
          "base_uri": "https://localhost:8080/"
        },
        "id": "mRQSIC_I6xdI",
        "outputId": "2508efc6-1f11-49ef-ffb9-030e051231fe"
      }
    },
    {
      "cell_type": "markdown",
      "source": [
        "2f"
      ],
      "metadata": {
        "id": "tTJWWSFv60I2"
      }
    },
    {
      "cell_type": "code",
      "execution_count": 23,
      "source": [
        "calendar.weekday(2016, 7, 29)"
      ],
      "outputs": [
        {
          "output_type": "execute_result",
          "data": {
            "text/plain": [
              "4"
            ]
          },
          "metadata": {},
          "execution_count": 23
        }
      ],
      "metadata": {
        "colab": {
          "base_uri": "https://localhost:8080/"
        },
        "id": "OqOb_vkE62m4",
        "outputId": "bc17fd8a-8e55-4822-dd4d-8bf419a172dd"
      }
    },
    {
      "cell_type": "markdown",
      "source": [
        "Bài 3a"
      ],
      "metadata": {
        "id": "7d8RMSmx7DdI"
      }
    },
    {
      "cell_type": "code",
      "execution_count": 24,
      "source": [
        "def average(num1: float, num2: float) -> float:\n",
        "  tb= abs(num1+num2) /2\n",
        "  return tb\n",
        "average(10,20)\n"
      ],
      "outputs": [
        {
          "output_type": "execute_result",
          "data": {
            "text/plain": [
              "15.0"
            ]
          },
          "metadata": {},
          "execution_count": 24
        }
      ],
      "metadata": {
        "colab": {
          "base_uri": "https://localhost:8080/"
        },
        "id": "D21rvfZw7HDg",
        "outputId": "682e4431-ad3f-4c94-d4db-98284a63c522"
      }
    },
    {
      "cell_type": "markdown",
      "source": [
        "1b"
      ],
      "metadata": {
        "id": "6eWsZ7lc9p4i"
      }
    },
    {
      "cell_type": "code",
      "execution_count": 25,
      "source": [
        " average(2.5, 3.0)"
      ],
      "outputs": [
        {
          "output_type": "execute_result",
          "data": {
            "text/plain": [
              "2.75"
            ]
          },
          "metadata": {},
          "execution_count": 25
        }
      ],
      "metadata": {
        "colab": {
          "base_uri": "https://localhost:8080/"
        },
        "id": "in7QeXTE9qlq",
        "outputId": "b80f20d1-873a-4cf8-ce75-7b5c527db31e"
      }
    },
    {
      "cell_type": "markdown",
      "source": [
        "Chương 7"
      ],
      "metadata": {
        "id": "Wu6h5YzZ9tdS"
      }
    },
    {
      "cell_type": "markdown",
      "source": [
        "Bài 1a"
      ],
      "metadata": {
        "id": "9cmBqXW39w5D"
      }
    },
    {
      "cell_type": "code",
      "execution_count": 26,
      "source": [
        " 'hello'.upper()"
      ],
      "outputs": [
        {
          "output_type": "execute_result",
          "data": {
            "application/vnd.google.colaboratory.intrinsic+json": {
              "type": "string"
            },
            "text/plain": [
              "'HELLO'"
            ]
          },
          "metadata": {},
          "execution_count": 26
        }
      ],
      "metadata": {
        "colab": {
          "base_uri": "https://localhost:8080/",
          "height": 35
        },
        "id": "7jQaGOHK9u-6",
        "outputId": "752699a9-19d9-4851-f83e-9113e1c81913"
      }
    },
    {
      "cell_type": "markdown",
      "source": [
        "1b"
      ],
      "metadata": {
        "id": "WCAZIQqX96zK"
      }
    },
    {
      "cell_type": "code",
      "execution_count": 27,
      "source": [
        "'Happy Birthday!'.lower()"
      ],
      "outputs": [
        {
          "output_type": "execute_result",
          "data": {
            "application/vnd.google.colaboratory.intrinsic+json": {
              "type": "string"
            },
            "text/plain": [
              "'happy birthday!'"
            ]
          },
          "metadata": {},
          "execution_count": 27
        }
      ],
      "metadata": {
        "colab": {
          "base_uri": "https://localhost:8080/",
          "height": 35
        },
        "id": "UosXgJqc97k6",
        "outputId": "77af806f-2322-4d67-9049-bf124b4a6f71"
      }
    },
    {
      "cell_type": "markdown",
      "source": [
        "1c"
      ],
      "metadata": {
        "id": "cw75cgei9-qh"
      }
    },
    {
      "cell_type": "code",
      "execution_count": 28,
      "source": [
        "'WeeeEEEEeeeEEEEeee'.swapcase()"
      ],
      "outputs": [
        {
          "output_type": "execute_result",
          "data": {
            "application/vnd.google.colaboratory.intrinsic+json": {
              "type": "string"
            },
            "text/plain": [
              "'wEEEeeeeEEEeeeeEEE'"
            ]
          },
          "metadata": {},
          "execution_count": 28
        }
      ],
      "metadata": {
        "colab": {
          "base_uri": "https://localhost:8080/",
          "height": 35
        },
        "id": "EcNHXDEV9_Wf",
        "outputId": "8a950f09-7346-4711-955a-4e52cb403ca1"
      }
    },
    {
      "cell_type": "markdown",
      "source": [
        "1d"
      ],
      "metadata": {
        "id": "Nngy6p1s-E6q"
      }
    },
    {
      "cell_type": "code",
      "execution_count": 29,
      "source": [
        "'ABC123'.isupper()"
      ],
      "outputs": [
        {
          "output_type": "execute_result",
          "data": {
            "text/plain": [
              "True"
            ]
          },
          "metadata": {},
          "execution_count": 29
        }
      ],
      "metadata": {
        "colab": {
          "base_uri": "https://localhost:8080/"
        },
        "id": "YMC8806y-GNy",
        "outputId": "819efde4-c131-40fc-e5d6-c920efe74816"
      }
    },
    {
      "cell_type": "markdown",
      "source": [
        "1e"
      ],
      "metadata": {
        "id": "gckjMu8i-LlK"
      }
    },
    {
      "cell_type": "code",
      "execution_count": 30,
      "source": [
        "'aeiouAEIOU'.count('a')"
      ],
      "outputs": [
        {
          "output_type": "execute_result",
          "data": {
            "text/plain": [
              "1"
            ]
          },
          "metadata": {},
          "execution_count": 30
        }
      ],
      "metadata": {
        "colab": {
          "base_uri": "https://localhost:8080/"
        },
        "id": "xQ3-oMBO-Mly",
        "outputId": "965e5e28-8004-4b7f-84c2-c3e5463f2598"
      }
    },
    {
      "cell_type": "markdown",
      "source": [
        "1f"
      ],
      "metadata": {
        "id": "dUqeEmF4-Q6z"
      }
    },
    {
      "cell_type": "code",
      "execution_count": 31,
      "source": [
        "'hello'.endswith('o')"
      ],
      "outputs": [
        {
          "output_type": "execute_result",
          "data": {
            "text/plain": [
              "True"
            ]
          },
          "metadata": {},
          "execution_count": 31
        }
      ],
      "metadata": {
        "colab": {
          "base_uri": "https://localhost:8080/"
        },
        "id": "SwZC0dGF-R6K",
        "outputId": "1e2424a4-5773-480d-a47b-1002203109ce"
      }
    },
    {
      "cell_type": "markdown",
      "source": [
        "1g"
      ],
      "metadata": {
        "id": "3Sgj4wJK-Y_q"
      }
    },
    {
      "cell_type": "code",
      "execution_count": 32,
      "source": [
        " 'hello'.startswith('H')"
      ],
      "outputs": [
        {
          "output_type": "execute_result",
          "data": {
            "text/plain": [
              "False"
            ]
          },
          "metadata": {},
          "execution_count": 32
        }
      ],
      "metadata": {
        "colab": {
          "base_uri": "https://localhost:8080/"
        },
        "id": "DR8PEa8e-aar",
        "outputId": "4843b197-095b-4298-d1f1-1ee2c760ef0d"
      }
    },
    {
      "cell_type": "markdown",
      "source": [
        "1h"
      ],
      "metadata": {
        "id": "_a8IGReO-bwa"
      }
    },
    {
      "cell_type": "code",
      "execution_count": 33,
      "source": [
        " 'Hello {0}'.format('Python')"
      ],
      "outputs": [
        {
          "output_type": "execute_result",
          "data": {
            "application/vnd.google.colaboratory.intrinsic+json": {
              "type": "string"
            },
            "text/plain": [
              "'Hello Python'"
            ]
          },
          "metadata": {},
          "execution_count": 33
        }
      ],
      "metadata": {
        "colab": {
          "base_uri": "https://localhost:8080/",
          "height": 35
        },
        "id": "6uG6OBdm-dWD",
        "outputId": "ceebefbc-0661-4f6a-844a-6744e910f65a"
      }
    },
    {
      "cell_type": "markdown",
      "source": [
        "1i"
      ],
      "metadata": {
        "id": "lU_wAOde-hqq"
      }
    },
    {
      "cell_type": "code",
      "execution_count": 34,
      "source": [
        " 'Hello {0}! Hello {1}!'.format('Python', 'World')"
      ],
      "outputs": [
        {
          "output_type": "execute_result",
          "data": {
            "application/vnd.google.colaboratory.intrinsic+json": {
              "type": "string"
            },
            "text/plain": [
              "'Hello Python! Hello World!'"
            ]
          },
          "metadata": {},
          "execution_count": 34
        }
      ],
      "metadata": {
        "colab": {
          "base_uri": "https://localhost:8080/",
          "height": 35
        },
        "id": "oOlS6s0y-iZ7",
        "outputId": "4152864f-23ea-43ac-998f-63c0dd6ad703"
      }
    },
    {
      "cell_type": "markdown",
      "source": [
        "bài 2"
      ],
      "metadata": {
        "id": "mn856n5F_Mgc"
      }
    },
    {
      "cell_type": "code",
      "execution_count": 35,
      "source": [
        "'tomato'.count('o')"
      ],
      "outputs": [
        {
          "output_type": "execute_result",
          "data": {
            "text/plain": [
              "2"
            ]
          },
          "metadata": {},
          "execution_count": 35
        }
      ],
      "metadata": {
        "colab": {
          "base_uri": "https://localhost:8080/"
        },
        "id": "8m3jphkH_OQB",
        "outputId": "e66e22e7-f7a0-47eb-8838-b8edcec6bf27"
      }
    },
    {
      "cell_type": "markdown",
      "source": [
        "bài 3"
      ],
      "metadata": {
        "id": "-v7tkqahAHW0"
      }
    },
    {
      "cell_type": "code",
      "execution_count": 36,
      "source": [
        "'tomato'.index('o')"
      ],
      "outputs": [
        {
          "output_type": "execute_result",
          "data": {
            "text/plain": [
              "1"
            ]
          },
          "metadata": {},
          "execution_count": 36
        }
      ],
      "metadata": {
        "colab": {
          "base_uri": "https://localhost:8080/"
        },
        "id": "Qh7tFDZqAIdj",
        "outputId": "8fba8a1b-ad45-426d-aeff-84363cb11f4d"
      }
    },
    {
      "cell_type": "markdown",
      "source": [
        "Bài 4"
      ],
      "metadata": {
        "id": "MQY3XcK9B2Q6"
      }
    },
    {
      "cell_type": "code",
      "execution_count": 37,
      "source": [
        "'tomato'.index('o',2,len('tomato'))"
      ],
      "outputs": [
        {
          "output_type": "execute_result",
          "data": {
            "text/plain": [
              "5"
            ]
          },
          "metadata": {},
          "execution_count": 37
        }
      ],
      "metadata": {
        "colab": {
          "base_uri": "https://localhost:8080/"
        },
        "id": "XcmcCGc8B3ip",
        "outputId": "15ac7177-16c7-4dc8-d075-03ba21736e28"
      }
    },
    {
      "cell_type": "markdown",
      "source": [
        "Bài 5"
      ],
      "metadata": {
        "id": "vHDi3FTmDeup"
      }
    },
    {
      "cell_type": "code",
      "execution_count": 38,
      "source": [
        "'avocado'.index('o',3,len('avocado'))"
      ],
      "outputs": [
        {
          "output_type": "execute_result",
          "data": {
            "text/plain": [
              "6"
            ]
          },
          "metadata": {},
          "execution_count": 38
        }
      ],
      "metadata": {
        "colab": {
          "base_uri": "https://localhost:8080/"
        },
        "id": "Ko2myg-eDfob",
        "outputId": "643a8df9-6ac1-463d-b504-668275063b8b"
      }
    },
    {
      "cell_type": "markdown",
      "source": [
        "bài 6"
      ],
      "metadata": {
        "id": "zUQjrCJaEqkC"
      }
    },
    {
      "cell_type": "code",
      "execution_count": 39,
      "source": [
        "'runner'.replace('n','b')"
      ],
      "outputs": [
        {
          "output_type": "execute_result",
          "data": {
            "application/vnd.google.colaboratory.intrinsic+json": {
              "type": "string"
            },
            "text/plain": [
              "'rubber'"
            ]
          },
          "metadata": {},
          "execution_count": 39
        }
      ],
      "metadata": {
        "colab": {
          "base_uri": "https://localhost:8080/",
          "height": 35
        },
        "id": "G5fPAu26EsHY",
        "outputId": "b3c4437f-ba42-4d47-b26b-7dea35b113af"
      }
    },
    {
      "cell_type": "markdown",
      "source": [
        "Bài 7"
      ],
      "metadata": {
        "id": "842SQVmPE0F0"
      }
    },
    {
      "cell_type": "code",
      "execution_count": 40,
      "source": [
        " ' yes '.strip()"
      ],
      "outputs": [
        {
          "output_type": "execute_result",
          "data": {
            "application/vnd.google.colaboratory.intrinsic+json": {
              "type": "string"
            },
            "text/plain": [
              "'yes'"
            ]
          },
          "metadata": {},
          "execution_count": 40
        }
      ],
      "metadata": {
        "colab": {
          "base_uri": "https://localhost:8080/",
          "height": 35
        },
        "id": "C2AtI6b_E1L4",
        "outputId": "de55b76f-abbf-4836-dd3f-f5fb9d0d2d45"
      }
    },
    {
      "cell_type": "markdown",
      "source": [
        "bài 8 a"
      ],
      "metadata": {
        "id": "WMsfbrboJMFB"
      }
    },
    {
      "cell_type": "code",
      "execution_count": 41,
      "source": [
        "'pineapple'.find(\"p\",3)"
      ],
      "outputs": [
        {
          "output_type": "execute_result",
          "data": {
            "text/plain": [
              "5"
            ]
          },
          "metadata": {},
          "execution_count": 41
        }
      ],
      "metadata": {
        "colab": {
          "base_uri": "https://localhost:8080/"
        },
        "id": "5UbWX-rWJOTA",
        "outputId": "827853c1-d61a-4a58-bc24-7149a2c3ec26"
      }
    },
    {
      "cell_type": "markdown",
      "source": [
        "Bài 8b"
      ],
      "metadata": {
        "id": "rKQSM6wHJ_k3"
      }
    },
    {
      "cell_type": "code",
      "execution_count": 42,
      "source": [
        "'pineapple'.count('pineapple'.upper().swapcase())"
      ],
      "outputs": [
        {
          "output_type": "execute_result",
          "data": {
            "text/plain": [
              "1"
            ]
          },
          "metadata": {},
          "execution_count": 42
        }
      ],
      "metadata": {
        "colab": {
          "base_uri": "https://localhost:8080/"
        },
        "id": "RthXFD88KAnV",
        "outputId": "8fe70d40-6c74-4f0f-d322-46b4e2a52e52"
      }
    },
    {
      "cell_type": "markdown",
      "source": [
        "Bài 8c"
      ],
      "metadata": {
        "id": "_xRQEGgTK10I"
      }
    },
    {
      "cell_type": "code",
      "execution_count": 43,
      "source": [
        "'pineapple'.replace('pineapple'.swapcase(), 'pineapple'.lower())"
      ],
      "outputs": [
        {
          "output_type": "execute_result",
          "data": {
            "application/vnd.google.colaboratory.intrinsic+json": {
              "type": "string"
            },
            "text/plain": [
              "'pineapple'"
            ]
          },
          "metadata": {},
          "execution_count": 43
        }
      ],
      "metadata": {
        "colab": {
          "base_uri": "https://localhost:8080/",
          "height": 35
        },
        "id": "cO7G5N8CK29v",
        "outputId": "161fd667-acf7-489b-9263-0865bec9c205"
      }
    },
    {
      "cell_type": "markdown",
      "source": [
        "bài 9"
      ],
      "metadata": {
        "id": "pgPeMK1gLhdB"
      }
    },
    {
      "cell_type": "code",
      "execution_count": 44,
      "source": [
        "'I love {0}'.format('summer!')"
      ],
      "outputs": [
        {
          "output_type": "execute_result",
          "data": {
            "application/vnd.google.colaboratory.intrinsic+json": {
              "type": "string"
            },
            "text/plain": [
              "'I love summer!'"
            ]
          },
          "metadata": {},
          "execution_count": 44
        }
      ],
      "metadata": {
        "colab": {
          "base_uri": "https://localhost:8080/",
          "height": 35
        },
        "id": "-bY1IUmwLipP",
        "outputId": "a9521a64-0820-409e-8dc2-c481328a6ca0"
      }
    },
    {
      "cell_type": "markdown",
      "source": [
        "Bài 10"
      ],
      "metadata": {
        "id": "egDgKOkQLvLo"
      }
    },
    {
      "cell_type": "code",
      "execution_count": 45,
      "source": [
        "'The sides have lengths {0},{1}, and {2}.'.format('side1','side2','side3')"
      ],
      "outputs": [
        {
          "output_type": "execute_result",
          "data": {
            "application/vnd.google.colaboratory.intrinsic+json": {
              "type": "string"
            },
            "text/plain": [
              "'The sides have lengths side1,side2, and side3.'"
            ]
          },
          "metadata": {},
          "execution_count": 45
        }
      ],
      "metadata": {
        "colab": {
          "base_uri": "https://localhost:8080/",
          "height": 35
        },
        "id": "PFQORyC2LwJA",
        "outputId": "176fde66-edbb-4bda-dd03-e5b33355d6c8"
      }
    },
    {
      "cell_type": "markdown",
      "source": [
        "Bài 11a"
      ],
      "metadata": {
        "id": "tQKPiJOSMMp3"
      }
    },
    {
      "cell_type": "code",
      "execution_count": 46,
      "source": [
        "'boolean'.upper()"
      ],
      "outputs": [
        {
          "output_type": "execute_result",
          "data": {
            "application/vnd.google.colaboratory.intrinsic+json": {
              "type": "string"
            },
            "text/plain": [
              "'BOOLEAN'"
            ]
          },
          "metadata": {},
          "execution_count": 46
        }
      ],
      "metadata": {
        "colab": {
          "base_uri": "https://localhost:8080/",
          "height": 35
        },
        "id": "wejCI34VMNvE",
        "outputId": "8234acd7-edfd-4605-b55c-4bb0343a3d9e"
      }
    },
    {
      "cell_type": "markdown",
      "source": [
        "Bài 11b"
      ],
      "metadata": {
        "id": "wCmxJxHnMUBn"
      }
    },
    {
      "cell_type": "code",
      "execution_count": 47,
      "source": [
        "'CO2 H2O'.find('2')"
      ],
      "outputs": [
        {
          "output_type": "execute_result",
          "data": {
            "text/plain": [
              "2"
            ]
          },
          "metadata": {},
          "execution_count": 47
        }
      ],
      "metadata": {
        "colab": {
          "base_uri": "https://localhost:8080/"
        },
        "id": "8lh8n2f0MU5u",
        "outputId": "86e69cf2-5580-4096-f43d-a41a9c288106"
      }
    },
    {
      "cell_type": "markdown",
      "source": [
        "Bài 11c"
      ],
      "metadata": {
        "id": "b6PAI0VLMa_3"
      }
    },
    {
      "cell_type": "code",
      "execution_count": 48,
      "source": [
        "'CO2 H2O'.find('2','CO2 H2O'.find('2'))"
      ],
      "outputs": [
        {
          "output_type": "execute_result",
          "data": {
            "text/plain": [
              "2"
            ]
          },
          "metadata": {},
          "execution_count": 48
        }
      ],
      "metadata": {
        "colab": {
          "base_uri": "https://localhost:8080/"
        },
        "id": "ThQ1BcaAMb5n",
        "outputId": "c59e8cac-4785-4e21-bfb2-c931fe422b8f"
      }
    },
    {
      "cell_type": "markdown",
      "source": [
        "Bài 11d"
      ],
      "metadata": {
        "id": "atdkEP1IMsXQ"
      }
    },
    {
      "cell_type": "code",
      "execution_count": 49,
      "source": [
        "'Boolean'[0].lower()"
      ],
      "outputs": [
        {
          "output_type": "execute_result",
          "data": {
            "application/vnd.google.colaboratory.intrinsic+json": {
              "type": "string"
            },
            "text/plain": [
              "'b'"
            ]
          },
          "metadata": {},
          "execution_count": 49
        }
      ],
      "metadata": {
        "colab": {
          "base_uri": "https://localhost:8080/",
          "height": 35
        },
        "id": "jSO1n1rfMtck",
        "outputId": "dc89b12f-d45a-4615-ccfb-5e0ca6e974f8"
      }
    },
    {
      "cell_type": "markdown",
      "source": [
        "Bài 11e"
      ],
      "metadata": {
        "id": "eBMSa92cM2VL"
      }
    },
    {
      "cell_type": "code",
      "execution_count": 50,
      "source": [
        "'MoNDaY'.lower().capitalize()"
      ],
      "outputs": [
        {
          "output_type": "execute_result",
          "data": {
            "application/vnd.google.colaboratory.intrinsic+json": {
              "type": "string"
            },
            "text/plain": [
              "'Monday'"
            ]
          },
          "metadata": {},
          "execution_count": 50
        }
      ],
      "metadata": {
        "colab": {
          "base_uri": "https://localhost:8080/",
          "height": 35
        },
        "id": "bnMgWPf3M3cK",
        "outputId": "8904e145-e1d4-4c48-e288-6723f3a17e76"
      }
    },
    {
      "cell_type": "markdown",
      "source": [
        "bài 11f"
      ],
      "metadata": {
        "id": "8DIlpGXFNknA"
      }
    },
    {
      "cell_type": "code",
      "execution_count": 51,
      "source": [
        "\"  MonDay\".strip()"
      ],
      "outputs": [
        {
          "output_type": "execute_result",
          "data": {
            "application/vnd.google.colaboratory.intrinsic+json": {
              "type": "string"
            },
            "text/plain": [
              "'MonDay'"
            ]
          },
          "metadata": {},
          "execution_count": 51
        }
      ],
      "metadata": {
        "colab": {
          "base_uri": "https://localhost:8080/",
          "height": 35
        },
        "id": "kX2vqK0ENmVO",
        "outputId": "f8bd413e-aef4-4fc6-8d05-8ae21610fa80"
      }
    },
    {
      "cell_type": "markdown",
      "source": [
        "Bài 12"
      ],
      "metadata": {
        "id": "P2u-85s1NyZ-"
      }
    },
    {
      "cell_type": "code",
      "execution_count": 52,
      "source": [
        "def total_occurrences(s1, s2, ch):\n",
        "  return s1.count(ch) + s2.count(ch)\n",
        "total_occurrences('color', 'yellow', 'l')"
      ],
      "outputs": [
        {
          "output_type": "execute_result",
          "data": {
            "text/plain": [
              "3"
            ]
          },
          "metadata": {},
          "execution_count": 52
        }
      ],
      "metadata": {
        "colab": {
          "base_uri": "https://localhost:8080/"
        },
        "id": "QiR1o9vUNzEI",
        "outputId": "03dbecfe-af5a-4648-ef51-c388adfcfd6e"
      }
    },
    {
      "cell_type": "code",
      "execution_count": 53,
      "source": [
        "total_occurrences('red', 'blue', 'l')\r\n"
      ],
      "outputs": [
        {
          "output_type": "execute_result",
          "data": {
            "text/plain": [
              "1"
            ]
          },
          "metadata": {},
          "execution_count": 53
        }
      ],
      "metadata": {
        "colab": {
          "base_uri": "https://localhost:8080/"
        },
        "id": "yx2MWdwDN55v",
        "outputId": "4575018a-2748-480a-de6b-c5d6f432c1a1"
      }
    },
    {
      "cell_type": "code",
      "execution_count": 54,
      "source": [
        "#test\r\n",
        " "
      ],
      "outputs": [
        {
          "output_type": "execute_result",
          "data": {
            "text/plain": [
              "0"
            ]
          },
          "metadata": {},
          "execution_count": 54
        }
      ],
      "metadata": {
        "colab": {
          "base_uri": "https://localhost:8080/"
        },
        "id": "862IuWfwN8C2",
        "outputId": "4c25ba19-3dae-4e93-958d-7fb3a0dc89b2"
      }
    }
  ]
}