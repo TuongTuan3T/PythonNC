{
  "nbformat": 4,
  "nbformat_minor": 0,
  "metadata": {
    "colab": {
      "name": "Lab01.ipynb",
      "provenance": [],
      "collapsed_sections": [],
      "authorship_tag": "ABX9TyPYPQmtFn4nco3KoD93HQhd",
      "include_colab_link": true
    },
    "kernelspec": {
      "name": "python3",
      "display_name": "Python 3"
    },
    "language_info": {
      "name": "python"
    }
  },
  "cells": [
    {
      "cell_type": "markdown",
      "metadata": {
        "id": "view-in-github",
        "colab_type": "text"
      },
      "source": [
        "<a href=\"https://colab.research.google.com/github/TuongTuan3T/PythonNC/blob/main/Lab01.ipynb\" target=\"_parent\"><img src=\"https://colab.research.google.com/assets/colab-badge.svg\" alt=\"Open In Colab\"/></a>"
      ]
    },
    {
      "cell_type": "code",
      "metadata": {
        "colab": {
          "base_uri": "https://localhost:8080/"
        },
        "id": "y04dfx0uLSUB",
        "outputId": "41c148dc-b248-4208-ebdd-3c3dad3a2ae6"
      },
      "source": [
        "min(2,3,4)"
      ],
      "execution_count": null,
      "outputs": [
        {
          "output_type": "execute_result",
          "data": {
            "text/plain": [
              "2"
            ]
          },
          "metadata": {},
          "execution_count": 1
        }
      ]
    },
    {
      "cell_type": "markdown",
      "metadata": {
        "id": "dy67W68eNV7Q"
      },
      "source": [
        "Bài 1 b"
      ]
    },
    {
      "cell_type": "code",
      "metadata": {
        "colab": {
          "base_uri": "https://localhost:8080/"
        },
        "id": "fJNNkqRXO7TG",
        "outputId": "54650ef7-07a5-441c-ac7f-7b3fb30a50e6"
      },
      "source": [
        "max(2, -3, 4, 7, -5)"
      ],
      "execution_count": null,
      "outputs": [
        {
          "output_type": "execute_result",
          "data": {
            "text/plain": [
              "7"
            ]
          },
          "metadata": {},
          "execution_count": 2
        }
      ]
    },
    {
      "cell_type": "markdown",
      "metadata": {
        "id": "6E1T0siHOzzH"
      },
      "source": [
        "bài 1c\n"
      ]
    },
    {
      "cell_type": "code",
      "metadata": {
        "colab": {
          "base_uri": "https://localhost:8080/"
        },
        "id": "g5rJ25_QPERG",
        "outputId": "c4fdbb0f-7dc6-414f-8caf-8b933544e194"
      },
      "source": [
        "max(2, -3, min(4, 7), -5)"
      ],
      "execution_count": null,
      "outputs": [
        {
          "output_type": "execute_result",
          "data": {
            "text/plain": [
              "4"
            ]
          },
          "metadata": {},
          "execution_count": 3
        }
      ]
    },
    {
      "cell_type": "markdown",
      "metadata": {
        "id": "77jazVrKXWYV"
      },
      "source": [
        "bài 2a"
      ]
    },
    {
      "cell_type": "code",
      "metadata": {
        "colab": {
          "base_uri": "https://localhost:8080/"
        },
        "id": "LhxGbL9UXX_a",
        "outputId": "c66adae2-dbc0-475e-9161-f189a85b0c9a"
      },
      "source": [
        "min(max(3, 4), abs(-5))"
      ],
      "execution_count": null,
      "outputs": [
        {
          "output_type": "execute_result",
          "data": {
            "text/plain": [
              "4"
            ]
          },
          "metadata": {},
          "execution_count": 4
        }
      ]
    },
    {
      "cell_type": "markdown",
      "metadata": {
        "id": "8rJCw_osXbsK"
      },
      "source": [
        "bài 2b"
      ]
    },
    {
      "cell_type": "code",
      "metadata": {
        "colab": {
          "base_uri": "https://localhost:8080/"
        },
        "id": "ETApkYZoXdS6",
        "outputId": "b4970d40-cc2c-40dc-b031-ca8aff3115f4"
      },
      "source": [
        "abs(min(4, 6, max(2, 8)))"
      ],
      "execution_count": null,
      "outputs": [
        {
          "output_type": "execute_result",
          "data": {
            "text/plain": [
              "4"
            ]
          },
          "metadata": {},
          "execution_count": 5
        }
      ]
    },
    {
      "cell_type": "markdown",
      "metadata": {
        "id": "KNF9KogXXjO6"
      },
      "source": [
        "Bài 2c"
      ]
    },
    {
      "cell_type": "code",
      "metadata": {
        "colab": {
          "base_uri": "https://localhost:8080/"
        },
        "id": "F6KdjA65XkYq",
        "outputId": "11226b03-6b00-43fd-e378-1d1b9282b00f"
      },
      "source": [
        "round(max(5.572, 3.258), abs(-2))"
      ],
      "execution_count": null,
      "outputs": [
        {
          "output_type": "execute_result",
          "data": {
            "text/plain": [
              "5.57"
            ]
          },
          "metadata": {},
          "execution_count": 6
        }
      ]
    },
    {
      "cell_type": "markdown",
      "metadata": {
        "id": "2GC_QY4PXoJz"
      },
      "source": [
        "Bài 3"
      ]
    },
    {
      "cell_type": "code",
      "metadata": {
        "id": "aBwfszkHXpQj"
      },
      "source": [
        "def triple(num):\n",
        " return num * 3"
      ],
      "execution_count": null,
      "outputs": []
    },
    {
      "cell_type": "markdown",
      "metadata": {
        "id": "lguXqmfeXwR7"
      },
      "source": [
        "bài 4\n"
      ]
    },
    {
      "cell_type": "code",
      "metadata": {
        "id": "W_nP65PlXz0r"
      },
      "source": [
        "def absolute_difference(number1, number2):\n",
        " return abs(number1 - number2)"
      ],
      "execution_count": null,
      "outputs": []
    }
  ]
}