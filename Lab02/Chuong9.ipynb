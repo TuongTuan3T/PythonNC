{
  "nbformat": 4,
  "nbformat_minor": 2,
  "metadata": {
    "orig_nbformat": 4,
    "language_info": {
      "name": "python",
      "version": "3.9.7",
      "mimetype": "text/x-python",
      "codemirror_mode": {
        "name": "ipython",
        "version": 3
      },
      "pygments_lexer": "ipython3",
      "nbconvert_exporter": "python",
      "file_extension": ".py"
    },
    "kernelspec": {
      "name": "python3",
      "display_name": "Python 3.9.7 64-bit"
    },
    "interpreter": {
      "hash": "dcacb0086e9a4f4eabd41c33bf4faac5ea0a3337ed3f5eff0680afa930572c04"
    },
    "colab": {
      "name": "Chuong9.ipynb",
      "provenance": []
    }
  },
  "cells": [
    {
      "cell_type": "markdown",
      "source": [
        "bài 1"
      ],
      "metadata": {
        "id": "y8_FqEEPJUqh"
      }
    },
    {
      "cell_type": "code",
      "execution_count": null,
      "source": [
        "celegans_phenotypes = ['Emb','Him', 'Unc', 'Lon', 'Dpy', 'Sma']\n",
        "for i in celegans_phenotypes:\n",
        "  print(i)"
      ],
      "outputs": [
        {
          "output_type": "stream",
          "name": "stdout",
          "text": [
            "Emb\n",
            "Him\n",
            "Unc\n",
            "Lon\n",
            "Dpy\n",
            "Sma\n"
          ]
        }
      ],
      "metadata": {
        "id": "eGMtBZH4JUqk",
        "colab": {
          "base_uri": "https://localhost:8080/"
        },
        "outputId": "6b9b017f-1dee-46af-cb3e-dd942526d58c"
      }
    },
    {
      "cell_type": "markdown",
      "source": [
        "bài 2"
      ],
      "metadata": {
        "id": "-iWx83CaJUqm"
      }
    },
    {
      "cell_type": "code",
      "execution_count": null,
      "source": [
        "\n",
        "half_live = [87.74, 24110.0, 6537.0, 14.4, 376000.0]\n",
        "for half_live in half_live:\n",
        "  print(half_live, end=\"  \")"
      ],
      "outputs": [
        {
          "output_type": "stream",
          "name": "stdout",
          "text": [
            "87.74  24110.0  6537.0  14.4  376000.0  "
          ]
        }
      ],
      "metadata": {
        "id": "h4Tm1bYzJUqm",
        "colab": {
          "base_uri": "https://localhost:8080/"
        },
        "outputId": "272038d7-3c81-40c8-b903-fea5baa5e081"
      }
    },
    {
      "cell_type": "markdown",
      "source": [
        "Bài 3"
      ],
      "metadata": {
        "id": "syX0cWr3JUqm"
      }
    },
    {
      "cell_type": "code",
      "execution_count": null,
      "source": [
        "whales = [5, 4, 7, 3, 2, 3, 2, 6, 4, 2, 1, 7, 1, 3]\n",
        "more_whales = []\n",
        "for i in whales:\n",
        "  more_whales.append(i+1)\n",
        "print(more_whales)"
      ],
      "outputs": [
        {
          "output_type": "stream",
          "name": "stdout",
          "text": [
            "[6, 5, 8, 4, 3, 4, 3, 7, 5, 3, 2, 8, 2, 4]\n"
          ]
        }
      ],
      "metadata": {
        "id": "OfL2bRJvJUqn",
        "colab": {
          "base_uri": "https://localhost:8080/"
        },
        "outputId": "a88c5a3a-fdd2-46d7-87d2-b61e349a6628"
      }
    },
    {
      "cell_type": "markdown",
      "source": [
        "Bài 4"
      ],
      "metadata": {
        "id": "CrowywrDJUqn"
      }
    },
    {
      "cell_type": "code",
      "execution_count": null,
      "source": [
        "alkaline_earth_metals = [[4,12,20,38,56,88],[9.012,24.305,40.078,87.62,137.327,226]]\n",
        "print(alkaline_earth_metals)"
      ],
      "outputs": [
        {
          "output_type": "stream",
          "name": "stdout",
          "text": [
            "[[4, 12, 20, 38, 56, 88], [9.012, 24.305, 40.078, 87.62, 137.327, 226]]\n"
          ]
        }
      ],
      "metadata": {
        "id": "77hV3EOQJUqn",
        "colab": {
          "base_uri": "https://localhost:8080/"
        },
        "outputId": "b0af8b79-3223-4741-9dae-b501335e4c03"
      }
    },
    {
      "cell_type": "code",
      "execution_count": null,
      "source": [
        "#a\n",
        "for alkaline_earth_metals in alkaline_earth_metals:\n",
        "  print(alkaline_earth_metals)"
      ],
      "outputs": [
        {
          "output_type": "stream",
          "name": "stdout",
          "text": [
            "[4, 12, 20, 38, 56, 88]\n",
            "[9.012, 24.305, 40.078, 87.62, 137.327, 226]\n"
          ]
        }
      ],
      "metadata": {
        "id": "twYuEollJUqo",
        "colab": {
          "base_uri": "https://localhost:8080/"
        },
        "outputId": "9e4df949-b331-4905-8ba5-c9b2dbdd62cf"
      }
    },
    {
      "cell_type": "code",
      "execution_count": null,
      "source": [
        "#b\n",
        "alkaline_earth_metals = [[4,12,20,38,56,88],[9.012,24.305,40.078,87.62,137.327,226]]\n",
        "[x for number_and_weight in alkaline_earth_metals for x in number_and_weight]"
      ],
      "outputs": [
        {
          "output_type": "execute_result",
          "data": {
            "text/plain": [
              "[4, 12, 20, 38, 56, 88, 9.012, 24.305, 40.078, 87.62, 137.327, 226]"
            ]
          },
          "metadata": {},
          "execution_count": 9
        }
      ],
      "metadata": {
        "id": "2AepHprmJUqo",
        "colab": {
          "base_uri": "https://localhost:8080/"
        },
        "outputId": "fc132639-23bf-4399-d233-1e4e399c4edc"
      }
    },
    {
      "cell_type": "markdown",
      "source": [
        "Bài 5"
      ],
      "metadata": {
        "id": "yxeTNSEKJUqp"
      }
    },
    {
      "cell_type": "code",
      "execution_count": null,
      "source": [
        "def mystery_function(values):\n",
        "  result = []\n",
        "  for sublist in values:\n",
        "    result.append([sublist[0]])\n",
        "    for i in sublist[1:]:\n",
        "      result[-1].insert(0, i)\n",
        "  return result\n",
        "mystery_function([[1,2,3],[4,5,6]])"
      ],
      "outputs": [
        {
          "output_type": "execute_result",
          "data": {
            "text/plain": [
              "[[3, 2, 1], [6, 5, 4]]"
            ]
          },
          "metadata": {},
          "execution_count": 10
        }
      ],
      "metadata": {
        "id": "a4X0k_bPJUqp",
        "colab": {
          "base_uri": "https://localhost:8080/"
        },
        "outputId": "331fec3a-b881-4a47-f88c-6b3b5208b5bb"
      }
    },
    {
      "cell_type": "markdown",
      "source": [
        "Bài 6"
      ],
      "metadata": {
        "id": "QKMrf2P1JUqp"
      }
    },
    {
      "cell_type": "code",
      "execution_count": null,
      "source": [
        "\n",
        "text = \" \"\n",
        "while text.lower() != \"quit\":\n",
        "  text = input(\"Please enter (or 'quit' to exit): \")\n",
        "  if text == \"quit\":\n",
        "    print(\"Exiting program\")\n",
        "  elif text == \"CO2\":\n",
        "    print(\"Cacbonic\")\n",
        "  elif text == \"C6H12O6\":\n",
        "    print(\"Glucozo\")\n",
        "  else:\n",
        "    print(\"Unknown\")"
      ],
      "outputs": [
        {
          "output_type": "stream",
          "name": "stdout",
          "text": [
            "Please enter (or 'quit' to exit): exit\n",
            "Unknown\n",
            "Please enter (or 'quit' to exit): quit\n",
            "Exiting program\n"
          ]
        }
      ],
      "metadata": {
        "id": "wlfF_qtaJUqq",
        "colab": {
          "base_uri": "https://localhost:8080/"
        },
        "outputId": "fc78cea6-7705-4a72-cd29-16620a3e573e"
      }
    },
    {
      "cell_type": "markdown",
      "source": [
        "bài 7"
      ],
      "metadata": {
        "id": "XHl0lDafJUqq"
      }
    },
    {
      "cell_type": "code",
      "execution_count": null,
      "source": [
        "sum = 0\r\n",
        "country_populations =[1295,23,7,3,47,21]\r\n",
        "for i in country_populations:\r\n",
        "  sum = sum + i\r\n",
        "print(sum)"
      ],
      "outputs": [
        {
          "output_type": "stream",
          "name": "stdout",
          "text": [
            "1396\n"
          ]
        }
      ],
      "metadata": {
        "id": "bXqeMuptJUqr",
        "colab": {
          "base_uri": "https://localhost:8080/"
        },
        "outputId": "970fa88b-2017-4381-f41a-27d08aa029ac"
      }
    },
    {
      "cell_type": "markdown",
      "source": [
        "bài 8"
      ],
      "metadata": {
        "id": "hc-fII_TJUqr"
      }
    },
    {
      "cell_type": "code",
      "execution_count": null,
      "source": [
        "#a\r\n",
        "import numpy as np\r\n",
        "rat_1 = np.random.randint(10,size=10)\r\n",
        "rat_2 = np.random.randint(10,size=10)\r\n",
        "print(rat_1)\r\n",
        "print(rat_2)\r\n",
        "if (rat_1[0] > rat_2[0]):\r\n",
        "  print(\"Rat 1 weighed more than Rat 2 on day 1\")\r\n",
        "else:\r\n",
        "  print(\"Rat 2 weighed more than Rat 1 on day 1\")"
      ],
      "outputs": [
        {
          "output_type": "stream",
          "name": "stdout",
          "text": [
            "[7 4 1 0 9 0 1 9 5 2]\n",
            "[6 0 3 9 3 2 3 5 0 7]\n",
            "Rat 1 weighed more than Rat 2 on day 1\n"
          ]
        }
      ],
      "metadata": {
        "id": "wXYU9aCbJUqr",
        "colab": {
          "base_uri": "https://localhost:8080/"
        },
        "outputId": "3d1209c0-c2dd-4dcb-a2d5-97d8c70d5c5d"
      }
    },
    {
      "cell_type": "code",
      "execution_count": null,
      "source": [
        "#b\r\n",
        "print(rat_1)\r\n",
        "print(rat_2)\r\n",
        "if rat_1[0] > rat_2[0] and rat_1[-1] > rat_2[-1]:\r\n",
        "  print(\"Rat 1 remained heavier than Rat 2.\")\r\n",
        "else:\r\n",
        "  print(\"Rat 2 became heavier than Rat 1.\")"
      ],
      "outputs": [
        {
          "output_type": "stream",
          "name": "stdout",
          "text": [
            "[7 4 1 0 9 0 1 9 5 2]\n",
            "[6 0 3 9 3 2 3 5 0 7]\n",
            "Rat 2 became heavier than Rat 1.\n"
          ]
        }
      ],
      "metadata": {
        "id": "-_Ev03SHKJmM",
        "colab": {
          "base_uri": "https://localhost:8080/"
        },
        "outputId": "983ea369-b2d2-44a5-e374-9f5527857b0a"
      }
    },
    {
      "cell_type": "code",
      "execution_count": null,
      "source": [
        "#c\r\n",
        "if rat_1[0] > rat_2[0]:\r\n",
        "  if rat_1[-1] > rat_2[-1]:\r\n",
        "    print(\"Rat 1 remained heavier than Rat 2.\")\r\n",
        "  else:\r\n",
        "    print(\"Rat 2 became heavier than Rat 1.\")\r\n",
        "else:\r\n",
        "  print(\"Rat 2 became heavier than Rat 1.\")"
      ],
      "outputs": [
        {
          "output_type": "stream",
          "name": "stdout",
          "text": [
            "Rat 2 became heavier than Rat 1.\n"
          ]
        }
      ],
      "metadata": {
        "id": "Ig70n2RVKLvs",
        "colab": {
          "base_uri": "https://localhost:8080/"
        },
        "outputId": "c6ddd466-50cd-4495-d1ff-c271a694a77f"
      }
    },
    {
      "cell_type": "markdown",
      "source": [
        "bài 9"
      ],
      "metadata": {
        "id": "uU9Ed-RUKRVk"
      }
    },
    {
      "cell_type": "code",
      "execution_count": null,
      "source": [
        "for i in range(33,50):\r\n",
        "  print(i)"
      ],
      "outputs": [
        {
          "output_type": "stream",
          "name": "stdout",
          "text": [
            "33\n",
            "34\n",
            "35\n",
            "36\n",
            "37\n",
            "38\n",
            "39\n",
            "40\n",
            "41\n",
            "42\n",
            "43\n",
            "44\n",
            "45\n",
            "46\n",
            "47\n",
            "48\n",
            "49\n"
          ]
        }
      ],
      "metadata": {
        "id": "sXT_C__mKSLc",
        "colab": {
          "base_uri": "https://localhost:8080/"
        },
        "outputId": "f86cb38e-3c4c-4784-b53d-538bace0f1fd"
      }
    },
    {
      "cell_type": "markdown",
      "source": [
        "Bài 10"
      ],
      "metadata": {
        "id": "VYCwyxyZKUtM"
      }
    },
    {
      "cell_type": "code",
      "execution_count": null,
      "source": [
        "for i in range(1,11):\r\n",
        "  print(i,end=\" \")"
      ],
      "outputs": [
        {
          "output_type": "stream",
          "name": "stdout",
          "text": [
            "1 2 3 4 5 6 7 8 9 10 "
          ]
        }
      ],
      "metadata": {
        "id": "hhZTncRlKVhU",
        "colab": {
          "base_uri": "https://localhost:8080/"
        },
        "outputId": "bef4af58-19ff-4db2-ba1d-cc7ad7038a79"
      }
    },
    {
      "cell_type": "markdown",
      "source": [
        "Bài 11"
      ],
      "metadata": {
        "id": "8HaD1TNlKYz7"
      }
    },
    {
      "cell_type": "code",
      "execution_count": null,
      "source": [
        "sum = 0\r\n",
        "count = 0\r\n",
        "for i in range(2,23):\r\n",
        "  sum = sum + i\r\n",
        "  count = count + 1\r\n",
        "  average = sum / count\r\n",
        "print(average)"
      ],
      "outputs": [
        {
          "output_type": "stream",
          "name": "stdout",
          "text": [
            "12.0\n"
          ]
        }
      ],
      "metadata": {
        "id": "_yP70biMKZht",
        "colab": {
          "base_uri": "https://localhost:8080/"
        },
        "outputId": "472f9b36-ae35-4fa5-d0ec-72783b91fc45"
      }
    },
    {
      "cell_type": "markdown",
      "source": [
        "Bài 12"
      ],
      "metadata": {
        "id": "0rEUa2XRKq0b"
      }
    },
    {
      "cell_type": "code",
      "execution_count": null,
      "source": [
        "def remove_neg(num_list):\r\n",
        "  for i in num_list:\r\n",
        "    if num_list[i] < 0:\r\n",
        "      del num_list[i]\r\n",
        "  print(num_list)\r\n",
        "remove_neg([1, 2, 3, -3, 6, -1, -3, 1])"
      ],
      "outputs": [
        {
          "output_type": "stream",
          "name": "stdout",
          "text": [
            "[1, 2, 3, 6, -3, 1]\n"
          ]
        }
      ],
      "metadata": {
        "id": "-4iGV29LKrv3",
        "colab": {
          "base_uri": "https://localhost:8080/"
        },
        "outputId": "6b284732-ef0b-476c-ce1d-6957beb466c6"
      }
    },
    {
      "cell_type": "markdown",
      "source": [
        "Bài 13"
      ],
      "metadata": {
        "id": "PJtpcwqAKt57"
      }
    },
    {
      "cell_type": "code",
      "execution_count": null,
      "source": [
        "\r\n",
        "for i in range(1,8):\r\n",
        "  s = \" \"\r\n",
        "  for j in range(1,i+1):\r\n",
        "    s = s + \" T\"\r\n",
        "  print(s)"
      ],
      "outputs": [
        {
          "output_type": "stream",
          "name": "stdout",
          "text": [
            "  T\n",
            "  T T\n",
            "  T T T\n",
            "  T T T T\n",
            "  T T T T T\n",
            "  T T T T T T\n",
            "  T T T T T T T\n"
          ]
        }
      ],
      "metadata": {
        "id": "ooYgAPeAKu7t",
        "colab": {
          "base_uri": "https://localhost:8080/"
        },
        "outputId": "c83d7d87-1fee-4c68-cbf3-f893e7b3c7bc"
      }
    },
    {
      "cell_type": "markdown",
      "source": [
        "bài 14"
      ],
      "metadata": {
        "id": "27lvZixSKwMU"
      }
    },
    {
      "cell_type": "code",
      "execution_count": null,
      "source": [
        "n = 8\r\n",
        "k = 2*n - 2\r\n",
        "for i in range(1,n):\r\n",
        "  for j in range(1,k):\r\n",
        "    print(end = \" \")\r\n",
        "  k = k -2\r\n",
        "  for j in range(1,i+1):\r\n",
        "    print(\"T\", end = \" \")\r\n",
        "  print(\"\\r\")"
      ],
      "outputs": [
        {
          "output_type": "stream",
          "name": "stdout",
          "text": [
            "             T \r\n",
            "           T T \r\n",
            "         T T T \r\n",
            "       T T T T \r\n",
            "     T T T T T \r\n",
            "   T T T T T T \r\n",
            " T T T T T T T \r\n"
          ]
        }
      ],
      "metadata": {
        "id": "t_B8VUDxKw-k",
        "colab": {
          "base_uri": "https://localhost:8080/"
        },
        "outputId": "a4632d62-e450-41aa-b701-83476ebc9e2b"
      }
    },
    {
      "cell_type": "markdown",
      "source": [
        "Bài 15"
      ],
      "metadata": {
        "id": "S59BnfMEK0FV"
      }
    },
    {
      "cell_type": "code",
      "execution_count": null,
      "source": [
        "#a\r\n",
        "i = 1\r\n",
        "while i < 8:\r\n",
        "  print(\"T\"*i )\r\n",
        "  i += 1"
      ],
      "outputs": [
        {
          "output_type": "stream",
          "name": "stdout",
          "text": [
            "T\n",
            "TT\n",
            "TTT\n",
            "TTTT\n",
            "TTTTT\n",
            "TTTTTT\n",
            "TTTTTTT\n"
          ]
        }
      ],
      "metadata": {
        "id": "0DtArfg3K01k",
        "colab": {
          "base_uri": "https://localhost:8080/"
        },
        "outputId": "b5f32653-3402-4ba9-d2f0-7190f896ac58"
      }
    },
    {
      "cell_type": "code",
      "execution_count": null,
      "source": [
        "#b\r\n",
        "\r\n",
        "i = 1\r\n",
        "while i< 8:\r\n",
        "  print(\" \"*(8-i),\"T\"*i)\r\n",
        "  i += 1"
      ],
      "outputs": [
        {
          "output_type": "stream",
          "name": "stdout",
          "text": [
            "        T\n",
            "       TT\n",
            "      TTT\n",
            "     TTTT\n",
            "    TTTTT\n",
            "   TTTTTT\n",
            "  TTTTTTT\n"
          ]
        }
      ],
      "metadata": {
        "id": "3YT0oiuqK-Js",
        "colab": {
          "base_uri": "https://localhost:8080/"
        },
        "outputId": "a9dc75be-7e7c-4ded-8f2d-a4205c73a2b5"
      }
    },
    {
      "cell_type": "markdown",
      "source": [
        "Bài 16"
      ],
      "metadata": {
        "id": "j8R5zDKeK2uD"
      }
    },
    {
      "cell_type": "code",
      "execution_count": null,
      "source": [
        "#a\r\n",
        "rat_1_weight = 12.0\r\n",
        "rat_1_rate = 0.04\r\n",
        "last_weight = 0.25*rat_1_weight + rat_1_weight\r\n",
        "weeks = 0\r\n",
        "result = rat_1_weight\r\n",
        "while result < last_weight:\r\n",
        "  result += result * rat_1_rate\r\n",
        "  weeks += 1\r\n",
        "print(weeks)"
      ],
      "outputs": [
        {
          "output_type": "stream",
          "name": "stdout",
          "text": [
            "6\n"
          ]
        }
      ],
      "metadata": {
        "id": "B8HsogBZK3ez",
        "colab": {
          "base_uri": "https://localhost:8080/"
        },
        "outputId": "ddc1e651-f4f4-439d-d8ca-baf246eeda11"
      }
    },
    {
      "cell_type": "code",
      "execution_count": 1,
      "source": [
        "#b\r\n",
        "rat_1_weight = 5\r\n",
        "rat_2_weight = 5\r\n",
        "rat_1_rate = 0.04\r\n",
        "rat_2_weight = 0.04\r\n",
        "last_weight_1 = 0.04*rat_1_weight + rat_1_weight\r\n",
        "last_weight_2 = 0.04*rat_2_weight + rat_2_weight\r\n",
        "weeks = 0\r\n",
        "result = rat_2_weight\r\n",
        "while result < last_weight_2:\r\n",
        "  result += result*0.1\r\n",
        "  weeks += 1\r\n",
        "print(weeks)"
      ],
      "outputs": [
        {
          "output_type": "stream",
          "name": "stdout",
          "text": [
            "1\n"
          ]
        }
      ],
      "metadata": {
        "id": "xYhfqwBSND7j",
        "outputId": "bd3e02d5-a910-425c-809e-733c7ed3b950",
        "colab": {
          "base_uri": "https://localhost:8080/"
        }
      }
    }
  ]
}